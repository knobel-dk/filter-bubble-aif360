{
 "cells": [
  {
   "cell_type": "code",
   "execution_count": 1,
   "metadata": {},
   "outputs": [],
   "source": [
    "import numpy as np\n",
    "import pandas as pd\n",
    "import matplotlib.pyplot as plt\n",
    "import seaborn as sns\n",
    "from pandas.plotting import scatter_matrix"
   ]
  },
  {
   "cell_type": "markdown",
   "metadata": {},
   "source": [
    "# Loading data"
   ]
  },
  {
   "cell_type": "code",
   "execution_count": 2,
   "metadata": {},
   "outputs": [],
   "source": [
    "topics = {\n",
    "    0: 'News',\n",
    "    1: 'Sport',\n",
    "    2: 'Business',\n",
    "    3: 'Tech',\n",
    "    4: 'Health & Fitness',\n",
    "    5: 'Money',\n",
    "    6: 'Opinion',\n",
    "}\n",
    "\n",
    "geographies = {\n",
    "    0: 'Region A',\n",
    "    1: 'Region B',\n",
    "    2: 'Region C',\n",
    "    3: 'Region D',\n",
    "    4: 'Region E',\n",
    "    5: 'Region F'\n",
    "}"
   ]
  },
  {
   "cell_type": "code",
   "execution_count": 3,
   "metadata": {},
   "outputs": [],
   "source": [
    "df = pd.read_pickle(\"df.pickle\")"
   ]
  },
  {
   "cell_type": "code",
   "execution_count": 4,
   "metadata": {},
   "outputs": [
    {
     "data": {
      "text/html": [
       "<div>\n",
       "<style scoped>\n",
       "    .dataframe tbody tr th:only-of-type {\n",
       "        vertical-align: middle;\n",
       "    }\n",
       "\n",
       "    .dataframe tbody tr th {\n",
       "        vertical-align: top;\n",
       "    }\n",
       "\n",
       "    .dataframe thead th {\n",
       "        text-align: right;\n",
       "    }\n",
       "</style>\n",
       "<table border=\"1\" class=\"dataframe\">\n",
       "  <thead>\n",
       "    <tr style=\"text-align: right;\">\n",
       "      <th></th>\n",
       "      <th>id</th>\n",
       "      <th>geography</th>\n",
       "      <th>current_topic</th>\n",
       "      <th>visit_count_30_days</th>\n",
       "      <th>most_favorite_topic</th>\n",
       "      <th>least_favorite_topic</th>\n",
       "      <th>topic_shown</th>\n",
       "    </tr>\n",
       "  </thead>\n",
       "  <tbody>\n",
       "    <tr>\n",
       "      <th>0</th>\n",
       "      <td>0</td>\n",
       "      <td>1</td>\n",
       "      <td>News</td>\n",
       "      <td>6</td>\n",
       "      <td>News</td>\n",
       "      <td>Tech</td>\n",
       "      <td>News</td>\n",
       "    </tr>\n",
       "    <tr>\n",
       "      <th>1</th>\n",
       "      <td>1</td>\n",
       "      <td>0</td>\n",
       "      <td>News</td>\n",
       "      <td>64</td>\n",
       "      <td>News</td>\n",
       "      <td>Business</td>\n",
       "      <td>News</td>\n",
       "    </tr>\n",
       "    <tr>\n",
       "      <th>2</th>\n",
       "      <td>2</td>\n",
       "      <td>1</td>\n",
       "      <td>News</td>\n",
       "      <td>22</td>\n",
       "      <td>Health &amp; Fitness</td>\n",
       "      <td>Tech</td>\n",
       "      <td>Opinion</td>\n",
       "    </tr>\n",
       "    <tr>\n",
       "      <th>3</th>\n",
       "      <td>3</td>\n",
       "      <td>2</td>\n",
       "      <td>News</td>\n",
       "      <td>52</td>\n",
       "      <td>Health &amp; Fitness</td>\n",
       "      <td>Tech</td>\n",
       "      <td>News</td>\n",
       "    </tr>\n",
       "    <tr>\n",
       "      <th>4</th>\n",
       "      <td>4</td>\n",
       "      <td>0</td>\n",
       "      <td>News</td>\n",
       "      <td>35</td>\n",
       "      <td>News</td>\n",
       "      <td>Business</td>\n",
       "      <td>News</td>\n",
       "    </tr>\n",
       "  </tbody>\n",
       "</table>\n",
       "</div>"
      ],
      "text/plain": [
       "   id  geography current_topic  visit_count_30_days most_favorite_topic  \\\n",
       "0   0          1          News                    6                News   \n",
       "1   1          0          News                   64                News   \n",
       "2   2          1          News                   22    Health & Fitness   \n",
       "3   3          2          News                   52    Health & Fitness   \n",
       "4   4          0          News                   35                News   \n",
       "\n",
       "  least_favorite_topic topic_shown  \n",
       "0                 Tech        News  \n",
       "1             Business        News  \n",
       "2                 Tech     Opinion  \n",
       "3                 Tech        News  \n",
       "4             Business        News  "
      ]
     },
     "execution_count": 4,
     "metadata": {},
     "output_type": "execute_result"
    }
   ],
   "source": [
    "df.head()"
   ]
  },
  {
   "cell_type": "code",
   "execution_count": 5,
   "metadata": {},
   "outputs": [],
   "source": [
    "df.geography = df.geography.replace(geographies)\n",
    "df.geography = df.geography.astype('category')\n",
    "df.visit_count_30_days = df.visit_count_30_days.astype(int)"
   ]
  },
  {
   "cell_type": "code",
   "execution_count": 6,
   "metadata": {},
   "outputs": [
    {
     "data": {
      "text/html": [
       "<div>\n",
       "<style scoped>\n",
       "    .dataframe tbody tr th:only-of-type {\n",
       "        vertical-align: middle;\n",
       "    }\n",
       "\n",
       "    .dataframe tbody tr th {\n",
       "        vertical-align: top;\n",
       "    }\n",
       "\n",
       "    .dataframe thead th {\n",
       "        text-align: right;\n",
       "    }\n",
       "</style>\n",
       "<table border=\"1\" class=\"dataframe\">\n",
       "  <thead>\n",
       "    <tr style=\"text-align: right;\">\n",
       "      <th></th>\n",
       "      <th>id</th>\n",
       "      <th>geography</th>\n",
       "      <th>current_topic</th>\n",
       "      <th>visit_count_30_days</th>\n",
       "      <th>most_favorite_topic</th>\n",
       "      <th>least_favorite_topic</th>\n",
       "      <th>topic_shown</th>\n",
       "    </tr>\n",
       "  </thead>\n",
       "  <tbody>\n",
       "    <tr>\n",
       "      <th>0</th>\n",
       "      <td>0</td>\n",
       "      <td>Region B</td>\n",
       "      <td>News</td>\n",
       "      <td>6</td>\n",
       "      <td>News</td>\n",
       "      <td>Tech</td>\n",
       "      <td>News</td>\n",
       "    </tr>\n",
       "    <tr>\n",
       "      <th>1</th>\n",
       "      <td>1</td>\n",
       "      <td>Region A</td>\n",
       "      <td>News</td>\n",
       "      <td>64</td>\n",
       "      <td>News</td>\n",
       "      <td>Business</td>\n",
       "      <td>News</td>\n",
       "    </tr>\n",
       "    <tr>\n",
       "      <th>2</th>\n",
       "      <td>2</td>\n",
       "      <td>Region B</td>\n",
       "      <td>News</td>\n",
       "      <td>22</td>\n",
       "      <td>Health &amp; Fitness</td>\n",
       "      <td>Tech</td>\n",
       "      <td>Opinion</td>\n",
       "    </tr>\n",
       "    <tr>\n",
       "      <th>3</th>\n",
       "      <td>3</td>\n",
       "      <td>Region C</td>\n",
       "      <td>News</td>\n",
       "      <td>52</td>\n",
       "      <td>Health &amp; Fitness</td>\n",
       "      <td>Tech</td>\n",
       "      <td>News</td>\n",
       "    </tr>\n",
       "    <tr>\n",
       "      <th>4</th>\n",
       "      <td>4</td>\n",
       "      <td>Region A</td>\n",
       "      <td>News</td>\n",
       "      <td>35</td>\n",
       "      <td>News</td>\n",
       "      <td>Business</td>\n",
       "      <td>News</td>\n",
       "    </tr>\n",
       "  </tbody>\n",
       "</table>\n",
       "</div>"
      ],
      "text/plain": [
       "   id geography current_topic  visit_count_30_days most_favorite_topic  \\\n",
       "0   0  Region B          News                    6                News   \n",
       "1   1  Region A          News                   64                News   \n",
       "2   2  Region B          News                   22    Health & Fitness   \n",
       "3   3  Region C          News                   52    Health & Fitness   \n",
       "4   4  Region A          News                   35                News   \n",
       "\n",
       "  least_favorite_topic topic_shown  \n",
       "0                 Tech        News  \n",
       "1             Business        News  \n",
       "2                 Tech     Opinion  \n",
       "3                 Tech        News  \n",
       "4             Business        News  "
      ]
     },
     "execution_count": 6,
     "metadata": {},
     "output_type": "execute_result"
    }
   ],
   "source": [
    "df.head()"
   ]
  },
  {
   "cell_type": "code",
   "execution_count": 7,
   "metadata": {},
   "outputs": [
    {
     "data": {
      "text/plain": [
       "array([[<matplotlib.axes._subplots.AxesSubplot object at 0x7fabfb006470>,\n",
       "        <matplotlib.axes._subplots.AxesSubplot object at 0x7fabfafa51d0>],\n",
       "       [<matplotlib.axes._subplots.AxesSubplot object at 0x7fabfaf4c860>,\n",
       "        <matplotlib.axes._subplots.AxesSubplot object at 0x7fabfaef5ef0>],\n",
       "       [<matplotlib.axes._subplots.AxesSubplot object at 0x7fabfaf275c0>,\n",
       "        <matplotlib.axes._subplots.AxesSubplot object at 0x7fabfaf275f8>]],\n",
       "      dtype=object)"
      ]
     },
     "execution_count": 7,
     "metadata": {},
     "output_type": "execute_result"
    },
    {
     "data": {
      "image/png": "[encoded data removed]",
      "text/plain": [
       "<Figure size 864x864 with 6 Axes>"
      ]
     },
     "metadata": {
      "needs_background": "light"
     },
     "output_type": "display_data"
    }
   ],
   "source": [
    "df.drop(['id', 'visit_count_30_days'], axis=1).replace(\n",
    "    {v: k for k, v in topics.items()}\n",
    ").replace(\n",
    "    {v: k for k, v in geographies.items()}\n",
    ").astype(int).hist(figsize=(12, 12))"
   ]
  },
  {
   "cell_type": "code",
   "execution_count": 8,
   "metadata": {},
   "outputs": [
    {
     "data": {
      "text/plain": [
       "<matplotlib.axes._subplots.AxesSubplot at 0x7fac018b8ba8>"
      ]
     },
     "execution_count": 8,
     "metadata": {},
     "output_type": "execute_result"
    },
    {
     "data": {
      "image/png": "[encoded data removed]",
      "text/plain": [
       "<Figure size 864x864 with 1 Axes>"
      ]
     },
     "metadata": {
      "needs_background": "light"
     },
     "output_type": "display_data"
    }
   ],
   "source": [
    "df.drop(['id', 'visit_count_30_days'], axis=1).replace(\n",
    "    {v: k for k, v in topics.items()}\n",
    ").replace(\n",
    "    {v: k for k, v in geographies.items()}\n",
    ").astype(int).plot.box(vert=False, figsize=(12, 12))"
   ]
  },
  {
   "cell_type": "raw",
   "metadata": {},
   "source": [
    "scatter_matrix(df.drop(['id', 'visit_count_30_days'], axis=1).replace(\n",
    "    {v: k for k, v in topics.items()}\n",
    ").replace(\n",
    "    {v: k for k, v in geographies.items()}\n",
    ").astype(int), alpha=0.2, figsize=(12, 12), diagonal='kde')"
   ]
  },
  {
   "cell_type": "markdown",
   "metadata": {},
   "source": [
    "![scatter](scatter_matrix.png)"
   ]
  },
  {
   "cell_type": "markdown",
   "metadata": {},
   "source": [
    "# Turn into a binary classification problem"
   ]
  },
  {
   "cell_type": "markdown",
   "metadata": {},
   "source": [
    "We want to ensure that everyone is seeing articles from the topic _Opinion_ so we will turn this into a binary classification problem by changing the dataset."
   ]
  },
  {
   "cell_type": "code",
   "execution_count": 9,
   "metadata": {},
   "outputs": [],
   "source": [
    "for col in df.filter(regex='topic'):\n",
    "    df[col] = np.where(df[col] == 'Opinion', 'Opinion', 'Other')\n",
    "    df[col] = df[col].astype('category')"
   ]
  },
  {
   "cell_type": "markdown",
   "metadata": {},
   "source": [
    "## Is there unfairness in the data?"
   ]
  },
  {
   "cell_type": "code",
   "execution_count": 10,
   "metadata": {},
   "outputs": [
    {
     "data": {
      "text/markdown": [
       "**Region B** ( _N_ = 341,137 ) has a favorable outcome in 4.52% of cases"
      ],
      "text/plain": [
       "<IPython.core.display.Markdown object>"
      ]
     },
     "metadata": {},
     "output_type": "display_data"
    },
    {
     "data": {
      "text/markdown": [
       "**Region A** ( _N_ = 500,394 ) has a favorable outcome in 6.67% of cases"
      ],
      "text/plain": [
       "<IPython.core.display.Markdown object>"
      ]
     },
     "metadata": {},
     "output_type": "display_data"
    },
    {
     "data": {
      "text/markdown": [
       "**Region C** ( _N_ = 135,868 ) has a favorable outcome in 4.47% of cases"
      ],
      "text/plain": [
       "<IPython.core.display.Markdown object>"
      ]
     },
     "metadata": {},
     "output_type": "display_data"
    },
    {
     "data": {
      "text/markdown": [
       "**Region D** ( _N_ = 21,277 ) has a favorable outcome in 4.39% of cases"
      ],
      "text/plain": [
       "<IPython.core.display.Markdown object>"
      ]
     },
     "metadata": {},
     "output_type": "display_data"
    },
    {
     "data": {
      "text/markdown": [
       "**Region E** ( _N_ = 1,305 ) has a favorable outcome in 4.29% of cases"
      ],
      "text/plain": [
       "<IPython.core.display.Markdown object>"
      ]
     },
     "metadata": {},
     "output_type": "display_data"
    },
    {
     "data": {
      "text/markdown": [
       "**Region F** ( _N_ = 19 ) has a favorable outcome in 5.26% of cases"
      ],
      "text/plain": [
       "<IPython.core.display.Markdown object>"
      ]
     },
     "metadata": {},
     "output_type": "display_data"
    }
   ],
   "source": [
    "from IPython.display import Markdown, display\n",
    "\n",
    "for geo in df.geography.unique():\n",
    "    i = df[df.geography == geo]\n",
    "    N = len(i)\n",
    "    favorable_ratio = round((i.topic_shown == 'Opinion').mean()*100,2)\n",
    "    display(Markdown(f\"**{geo}** ( _N_ = {format(N, ',')} ) has a favorable outcome in {favorable_ratio}% of cases\"))"
   ]
  },
  {
   "cell_type": "markdown",
   "metadata": {},
   "source": [
    "We believe that _Region A_ is a privileged group. As seen by the Disparate Impact:"
   ]
  },
  {
   "cell_type": "code",
   "execution_count": 11,
   "metadata": {},
   "outputs": [
    {
     "data": {
      "text/plain": [
       "0.6751103557282909"
      ]
     },
     "execution_count": 11,
     "metadata": {},
     "output_type": "execute_result"
    }
   ],
   "source": [
    "priv = df.geography == 'Region A'\n",
    "(df[~priv].topic_shown == 'Opinion').mean() / (df[priv].topic_shown == 'Opinion').mean()"
   ]
  },
  {
   "cell_type": "markdown",
   "metadata": {},
   "source": [
    "# Build a naive model"
   ]
  },
  {
   "cell_type": "code",
   "execution_count": 12,
   "metadata": {},
   "outputs": [
    {
     "name": "stderr",
     "output_type": "stream",
     "text": [
      "/opt/conda/lib/python3.6/site-packages/h5py/__init__.py:36: FutureWarning: Conversion of the second argument of issubdtype from `float` to `np.floating` is deprecated. In future, it will be treated as `np.float64 == np.dtype(float).type`.\n",
      "  from ._conv import register_converters as _register_converters\n"
     ]
    }
   ],
   "source": [
    "import tensorflow as tf\n",
    "from tensorflow import feature_column\n",
    "from tensorflow.keras import layers\n",
    "from sklearn.model_selection import train_test_split\n",
    "from tensorflow.keras.callbacks import ModelCheckpoint"
   ]
  },
  {
   "cell_type": "code",
   "execution_count": 13,
   "metadata": {},
   "outputs": [],
   "source": [
    "def df_to_dataset(dataframe, weights=None, shuffle=True, batch_size=32):\n",
    "    dataframe = dataframe.copy()\n",
    "    labels = dataframe.pop('topic_shown').replace({'Opinion': 0, 'Other': 1}).astype(int)\n",
    "    if weights is not None:\n",
    "        ds = tf.data.Dataset.from_tensor_slices((dict(dataframe), labels, weights))\n",
    "    else:\n",
    "        ds = tf.data.Dataset.from_tensor_slices((dict(dataframe), labels))\n",
    "    if shuffle:\n",
    "        ds = ds.shuffle(buffer_size=len(dataframe))\n",
    "    ds = ds.batch(batch_size)\n",
    "    return ds"
   ]
  },
  {
   "cell_type": "code",
   "execution_count": 14,
   "metadata": {},
   "outputs": [],
   "source": [
    "train, test = train_test_split(df, test_size=0.2, random_state=42)\n",
    "train, val = train_test_split(train, test_size=0.2, random_state=42)\n",
    "\n",
    "train_ds = df_to_dataset(train)\n",
    "val_ds = df_to_dataset(val, shuffle=False)\n",
    "test_ds = df_to_dataset(test, shuffle=False)"
   ]
  },
  {
   "cell_type": "code",
   "execution_count": 15,
   "metadata": {},
   "outputs": [],
   "source": [
    "feature_columns = []\n",
    "\n",
    "feature_columns.append(feature_column.numeric_column('visit_count_30_days'))\n",
    "\n",
    "feature = feature_column.categorical_column_with_vocabulary_list('geography', list(geographies.values()))\n",
    "onehot = feature_column.indicator_column(feature)\n",
    "feature_columns.append(onehot)\n",
    "\n",
    "topic_features = ['current_topic', 'most_favorite_topic', 'least_favorite_topic']\n",
    "for t in topic_features:\n",
    "    feature = feature_column.categorical_column_with_vocabulary_list(t, ['Opinion', 'Other'])\n",
    "    onehot = feature_column.indicator_column(feature)\n",
    "    feature_columns.append(onehot)"
   ]
  },
  {
   "cell_type": "raw",
   "metadata": {},
   "source": [
    "chkpts = \"naive-checkpoints/weights.{epoch:02d}-{val_loss:.2f}.hdf5\"\n",
    "cp_callback = ModelCheckpoint(filepath=chkpts, save_weights_only=False, verbose=0)\n",
    "\n",
    "feature_layer = tf.keras.layers.DenseFeatures(feature_columns)\n",
    "\n",
    "model = tf.keras.Sequential([\n",
    "  feature_layer,\n",
    "  layers.Dense(128, activation='relu'),\n",
    "  layers.Dense(128, activation='relu'),\n",
    "  layers.Dense(1, activation='sigmoid')\n",
    "])\n",
    "\n",
    "model.compile(optimizer='adam', loss='binary_crossentropy', metrics=['accuracy'], run_eagerly=True)\n",
    "model.fit(train_ds, validation_data=val_ds, epochs=3, callbacks=[cp_callback])"
   ]
  },
  {
   "cell_type": "raw",
   "metadata": {},
   "source": [
    "Epoch 1/3\n",
    "20000/20000 [==============================] - 712s 36ms/step - loss: 0.2169 - accuracy: 0.9442 - val_loss: 0.0000e+00 - val_accuracy: 0.0000e+00\n",
    "Epoch 2/3\n",
    "20000/20000 [==============================] - 1011s 51ms/step - loss: 0.2148 - accuracy: 0.9442 - val_loss: 0.2133 - val_accuracy: 0.9447\n",
    "Epoch 3/3\n",
    "20000/20000 [==============================] - 1572s 79ms/step - loss: 0.2145 - accuracy: 0.9443 - val_loss: 0.2129 - val_accuracy: 0.9447\n",
    "<tensorflow.python.keras.callbacks.History at 0x7f09180a8080>"
   ]
  },
  {
   "cell_type": "markdown",
   "metadata": {},
   "source": [
    "We will return to this model later."
   ]
  },
  {
   "cell_type": "markdown",
   "metadata": {},
   "source": [
    "# Fairness Preprocessing"
   ]
  },
  {
   "cell_type": "markdown",
   "metadata": {},
   "source": [
    "Notice that we are creating this the AIF360 `BinaryLabelDataset` using only the training data."
   ]
  },
  {
   "cell_type": "code",
   "execution_count": 17,
   "metadata": {},
   "outputs": [],
   "source": [
    "from aif360.datasets import BinaryLabelDataset\n",
    "ai360df = BinaryLabelDataset(df=train.drop(['id'], axis=1).replace(\n",
    "    {'Opinion': 0, 'Other': 1}\n",
    ").replace(\n",
    "    {v: k for k, v in geographies.items()}\n",
    ").astype(int), label_names=['topic_shown'], protected_attribute_names=['geography'],\n",
    "    unprivileged_protected_attributes=['Region B', 'Region C', 'Region D', 'Region E'])"
   ]
  },
  {
   "cell_type": "code",
   "execution_count": 18,
   "metadata": {},
   "outputs": [],
   "source": [
    "unprivileged_groups, privileged_groups = [{'geography': 1}, {'geography': 2}, {'geography': 3}, {'geography': 4}, {'geography': 5}], [{'geography': 0}]"
   ]
  },
  {
   "cell_type": "markdown",
   "metadata": {},
   "source": [
    "### Reweighing the dataset"
   ]
  },
  {
   "cell_type": "markdown",
   "metadata": {},
   "source": [
    "By reweighing the dataset we reduce the disparate impact (DI) to 1. Notice that DI can be accessed in AIF360."
   ]
  },
  {
   "cell_type": "code",
   "execution_count": 19,
   "metadata": {},
   "outputs": [],
   "source": [
    "from aif360.algorithms.preprocessing import Reweighing\n",
    "rw = Reweighing(unprivileged_groups, privileged_groups)\n",
    "rw.fit(ai360df)\n",
    "ai360df_rw = rw.transform(ai360df)"
   ]
  },
  {
   "cell_type": "code",
   "execution_count": 20,
   "metadata": {},
   "outputs": [
    {
     "data": {
      "text/markdown": [
       "**Disparate Impact**"
      ],
      "text/plain": [
       "<IPython.core.display.Markdown object>"
      ]
     },
     "metadata": {},
     "output_type": "display_data"
    },
    {
     "name": "stdout",
     "output_type": "stream",
     "text": [
      "0.9999999999999994\n"
     ]
    },
    {
     "data": {
      "text/markdown": [
       "**Statistical Parity Difference**"
      ],
      "text/plain": [
       "<IPython.core.display.Markdown object>"
      ]
     },
     "metadata": {},
     "output_type": "display_data"
    },
    {
     "name": "stdout",
     "output_type": "stream",
     "text": [
      "-5.551115123125783e-16\n"
     ]
    },
    {
     "data": {
      "text/markdown": [
       "**Mean Difference**"
      ],
      "text/plain": [
       "<IPython.core.display.Markdown object>"
      ]
     },
     "metadata": {},
     "output_type": "display_data"
    },
    {
     "name": "stdout",
     "output_type": "stream",
     "text": [
      "-5.551115123125783e-16\n"
     ]
    }
   ],
   "source": [
    "from aif360.metrics import BinaryLabelDatasetMetric\n",
    "metric_df_rw = BinaryLabelDatasetMetric(ai360df_rw, unprivileged_groups=unprivileged_groups, privileged_groups=privileged_groups)\n",
    "\n",
    "display(Markdown(\"**Disparate Impact**\"))\n",
    "print(metric_df_rw.disparate_impact())\n",
    "\n",
    "display(Markdown(\"**Statistical Parity Difference**\"))\n",
    "print(metric_df_rw.statistical_parity_difference())\n",
    "\n",
    "display(Markdown(\"**Mean Difference**\"))\n",
    "print(metric_df_rw.mean_difference())"
   ]
  },
  {
   "cell_type": "markdown",
   "metadata": {},
   "source": [
    "The `instance_weights` assigns a weight to each sample."
   ]
  },
  {
   "cell_type": "code",
   "execution_count": 21,
   "metadata": {},
   "outputs": [
    {
     "name": "stdout",
     "output_type": "stream",
     "text": [
      "(640000,) (640000, 7)\n"
     ]
    }
   ],
   "source": [
    "print(ai360df_rw.instance_weights.shape, train.shape)\n",
    "weights = ai360df_rw.instance_weights"
   ]
  },
  {
   "cell_type": "markdown",
   "metadata": {},
   "source": [
    "### Training on the reweighted dataset\n",
    "\n",
    "Notice that we call `tf.keras.Sequential.fit` with the `ai360df_rw.instance_weights`."
   ]
  },
  {
   "cell_type": "raw",
   "metadata": {},
   "source": [
    "chkpts = \"weighted-checkpoints/weights.{epoch:02d}-{val_loss:.2f}.hdf5\"\n",
    "cp_callback = ModelCheckpoint(filepath=chkpts, save_weights_only=False, verbose=0)\n",
    "\n",
    "feature_layer = tf.keras.layers.DenseFeatures(feature_columns)\n",
    "\n",
    "model = tf.keras.Sequential([\n",
    "  feature_layer,\n",
    "  layers.Dense(128, activation='relu'),\n",
    "  layers.Dense(128, activation='relu'),\n",
    "  layers.Dense(1, activation='sigmoid')\n",
    "])\n",
    "\n",
    "train_ds = df_to_dataset(train, weights=weights)\n",
    "val_ds = df_to_dataset(val, shuffle=False)\n",
    "test_ds = df_to_dataset(test, shuffle=False)\n",
    "\n",
    "model.compile(optimizer='adam', loss='binary_crossentropy', metrics=['accuracy'], run_eagerly=True)\n",
    "model.fit(train_ds, validation_data=val_ds, epochs=3, callbacks=[cp_callback])"
   ]
  },
  {
   "cell_type": "raw",
   "metadata": {},
   "source": [
    "Epoch 1/3\n",
    "20000/20000 [==============================] - 717s 36ms/step - loss: 0.2185 - accuracy: 0.9442 - val_loss: 0.0000e+00 - val_accuracy: 0.0000e+00\n",
    "Epoch 2/3\n",
    "20000/20000 [==============================] - 1042s 52ms/step - loss: 0.2159 - accuracy: 0.9442 - val_loss: 0.2138 - val_accuracy: 0.9447\n",
    "Epoch 3/3\n",
    "20000/20000 [==============================] - 1585s 79ms/step - loss: 0.2156 - accuracy: 0.9442 - val_loss: 0.2142 - val_accuracy: 0.9447\n",
    "<tensorflow.python.keras.callbacks.History at 0x7fabde039f98>"
   ]
  },
  {
   "cell_type": "markdown",
   "metadata": {},
   "source": [
    "# Comparing the models"
   ]
  },
  {
   "cell_type": "code",
   "execution_count": 32,
   "metadata": {},
   "outputs": [
    {
     "name": "stdout",
     "output_type": "stream",
     "text": [
      "6250/6250 [==============================] - 518s 83ms/step - loss: 0.2164 - accuracy: 0.9433\n"
     ]
    }
   ],
   "source": [
    "model.load_weights(\"naive-checkpoints/weights.03-0.21.hdf5\")\n",
    "loss_naive, accuracy_naive = model.evaluate(test_ds)"
   ]
  },
  {
   "cell_type": "code",
   "execution_count": 33,
   "metadata": {},
   "outputs": [
    {
     "name": "stdout",
     "output_type": "stream",
     "text": [
      "6250/6250 [==============================] - 553s 88ms/step - loss: 0.2184 - accuracy: 0.9433\n"
     ]
    }
   ],
   "source": [
    "model.load_weights(\"weighted-checkpoints/weights.03-0.21.hdf5\")\n",
    "loss_weighted, accuracy_weighted = model.evaluate(test_ds)"
   ]
  },
  {
   "cell_type": "code",
   "execution_count": 35,
   "metadata": {},
   "outputs": [
    {
     "data": {
      "text/markdown": [
       "**Naive model accuracy**"
      ],
      "text/plain": [
       "<IPython.core.display.Markdown object>"
      ]
     },
     "metadata": {},
     "output_type": "display_data"
    },
    {
     "name": "stdout",
     "output_type": "stream",
     "text": [
      "0.94332\n"
     ]
    },
    {
     "data": {
      "text/markdown": [
       "**Weighted model accuracy**"
      ],
      "text/plain": [
       "<IPython.core.display.Markdown object>"
      ]
     },
     "metadata": {},
     "output_type": "display_data"
    },
    {
     "name": "stdout",
     "output_type": "stream",
     "text": [
      "0.943315\n"
     ]
    }
   ],
   "source": [
    "display(Markdown(\"**Naive model accuracy**\"))\n",
    "print(accuracy_naive)\n",
    "\n",
    "display(Markdown(\"**Weighted model accuracy**\"))\n",
    "print(accuracy_weighted)"
   ]
  },
  {
   "cell_type": "code",
   "execution_count": 37,
   "metadata": {},
   "outputs": [
    {
     "name": "stdout",
     "output_type": "stream",
     "text": [
      "3121/3121 [==============================] - 278s 89ms/step - loss: 0.2503 - accuracy: 0.9313\n",
      "3121/3121 [==============================] - 285s 91ms/step - loss: 0.2541 - accuracy: 0.9313\n"
     ]
    },
    {
     "data": {
      "text/markdown": [
       "**Naive model accuracy for protected group**"
      ],
      "text/plain": [
       "<IPython.core.display.Markdown object>"
      ]
     },
     "metadata": {},
     "output_type": "display_data"
    },
    {
     "name": "stdout",
     "output_type": "stream",
     "text": [
      "0.9313214\n"
     ]
    },
    {
     "data": {
      "text/markdown": [
       "**Weighted model accuracy for protected group**"
      ],
      "text/plain": [
       "<IPython.core.display.Markdown object>"
      ]
     },
     "metadata": {},
     "output_type": "display_data"
    },
    {
     "name": "stdout",
     "output_type": "stream",
     "text": [
      "0.9313214\n"
     ]
    }
   ],
   "source": [
    "idx = test.geography == 'Region A'\n",
    "test_ds = df_to_dataset(test[idx], shuffle=False)\n",
    "\n",
    "model.load_weights(\"naive-checkpoints/weights.03-0.21.hdf5\")\n",
    "loss_naive, accuracy_naive = model.evaluate(test_ds)\n",
    "\n",
    "model.load_weights(\"weighted-checkpoints/weights.03-0.21.hdf5\")\n",
    "loss_weighted, accuracy_weighted = model.evaluate(test_ds)\n",
    "\n",
    "display(Markdown(\"**Naive model accuracy for protected group**\"))\n",
    "print(accuracy_naive)\n",
    "\n",
    "display(Markdown(\"**Weighted model accuracy for protected group**\"))\n",
    "print(accuracy_weighted)"
   ]
  },
  {
   "cell_type": "code",
   "execution_count": 38,
   "metadata": {},
   "outputs": [
    {
     "name": "stdout",
     "output_type": "stream",
     "text": [
      "3130/3130 [==============================] - 275s 88ms/step - loss: 0.1825 - accuracy: 0.9553\n",
      "3130/3130 [==============================] - 278s 89ms/step - loss: 0.1827 - accuracy: 0.9553\n"
     ]
    },
    {
     "data": {
      "text/markdown": [
       "**Naive model accuracy for unprotected group**"
      ],
      "text/plain": [
       "<IPython.core.display.Markdown object>"
      ]
     },
     "metadata": {},
     "output_type": "display_data"
    },
    {
     "name": "stdout",
     "output_type": "stream",
     "text": [
      "0.9552877\n"
     ]
    },
    {
     "data": {
      "text/markdown": [
       "**Weighted model accuracy for unprotected group**"
      ],
      "text/plain": [
       "<IPython.core.display.Markdown object>"
      ]
     },
     "metadata": {},
     "output_type": "display_data"
    },
    {
     "name": "stdout",
     "output_type": "stream",
     "text": [
      "0.9552777\n"
     ]
    }
   ],
   "source": [
    "test_ds = df_to_dataset(test[~idx], shuffle=False)\n",
    "\n",
    "model.load_weights(\"naive-checkpoints/weights.03-0.21.hdf5\")\n",
    "loss_naive, accuracy_naive = model.evaluate(test_ds)\n",
    "\n",
    "model.load_weights(\"weighted-checkpoints/weights.03-0.21.hdf5\")\n",
    "loss_weighted, accuracy_weighted = model.evaluate(test_ds)\n",
    "\n",
    "display(Markdown(\"**Naive model accuracy for unprotected group**\"))\n",
    "print(accuracy_naive)\n",
    "\n",
    "display(Markdown(\"**Weighted model accuracy for unprotected group**\"))\n",
    "print(accuracy_weighted)"
   ]
  },
  {
   "cell_type": "code",
   "execution_count": null,
   "metadata": {},
   "outputs": [],
   "source": []
  }
 ],
 "metadata": {
  "kernelspec": {
   "display_name": "Python 3",
   "language": "python",
   "name": "python3"
  },
  "language_info": {
   "codemirror_mode": {
    "name": "ipython",
    "version": 3
   },
   "file_extension": ".py",
   "mimetype": "text/x-python",
   "name": "python",
   "nbconvert_exporter": "python",
   "pygments_lexer": "ipython3",
   "version": "3.6.8"
  }
 },
 "nbformat": 4,
 "nbformat_minor": 2
}
